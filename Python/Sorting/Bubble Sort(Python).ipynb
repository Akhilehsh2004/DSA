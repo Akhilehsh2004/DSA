{
 "cells": [
  {
   "cell_type": "markdown",
   "id": "38eb5ba4-7b3d-4a49-8291-8efc20f46dd0",
   "metadata": {},
   "source": [
    "## Akhilesh Pant (AU FTCA: MCA)"
   ]
  },
  {
   "cell_type": "markdown",
   "id": "c29afb03-12cc-43ac-ad73-3a472e4906c6",
   "metadata": {},
   "source": [
    "## Python code for Bubble Sort"
   ]
  },
  {
   "cell_type": "code",
   "execution_count": 1,
   "id": "e7b674ca-5d19-4531-985f-93073dda94b4",
   "metadata": {},
   "outputs": [
    {
     "name": "stdout",
     "output_type": "stream",
     "text": [
      "Original array: [64, 34, 25, 12, 22, 11, 90]\n",
      "Sorted array: [11, 12, 22, 25, 34, 64, 90]\n"
     ]
    }
   ],
   "source": [
    "def bubble_sort(arr):\n",
    "    n = len(arr)\n",
    "    # Traverse through all elements in the array\n",
    "    for i in range(n):\n",
    "        # Last i elements are already sorted\n",
    "        for j in range(0, n-i-1):\n",
    "            # Swap if the element found is greater than the next element\n",
    "            if arr[j] > arr[j+1]:\n",
    "                arr[j], arr[j+1] = arr[j+1], arr[j]\n",
    "\n",
    "# Example usage\n",
    "arr = [64, 34, 25, 12, 22, 11, 90]\n",
    "print(\"Original array:\", arr)\n",
    "bubble_sort(arr)\n",
    "print(\"Sorted array:\", arr)\n"
   ]
  },
  {
   "cell_type": "markdown",
   "id": "2a5f7be6-eec5-41db-8c9c-437b6971383e",
   "metadata": {},
   "source": [
    "### Algorithm for Insertion Sort\n",
    "\n",
    "1. **Start with the second element:** Assume the first element of the array is sorted. Pick the second element as the key.\n",
    "\n",
    "2. **Iterate through the array:** For each key element (starting from the second element), compare it with elements in the sorted portion of the array (elements to the left).\n",
    "\n",
    "3. **Shift elements:** Move all elements in the sorted portion that are greater than the key one position to the right to make space for the key.\n",
    "\n",
    "4. **Insert the key:** Place the key in its correct position in the sorted portion.\n",
    "\n",
    "5. **Repeat:** Continue this process for all elements in the array.\n",
    "\n",
    "6. **End:** Once all elements have been iterated over and placed in their correct positions, the array is sorted.\n",
    "\n"
   ]
  }
 ],
 "metadata": {
  "kernelspec": {
   "display_name": "Python [conda env:base] *",
   "language": "python",
   "name": "conda-base-py"
  },
  "language_info": {
   "codemirror_mode": {
    "name": "ipython",
    "version": 3
   },
   "file_extension": ".py",
   "mimetype": "text/x-python",
   "name": "python",
   "nbconvert_exporter": "python",
   "pygments_lexer": "ipython3",
   "version": "3.12.7"
  }
 },
 "nbformat": 4,
 "nbformat_minor": 5
}
