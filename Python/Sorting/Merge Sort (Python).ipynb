{
 "cells": [
  {
   "cell_type": "markdown",
   "id": "f8101571-220b-4ae9-835e-c06d2a02fd53",
   "metadata": {},
   "source": [
    "## Akhilesh Pant (AU FTCA: MCA)"
   ]
  },
  {
   "cell_type": "markdown",
   "id": "cb17a94a-a3f8-4cae-acda-31e3c330ea57",
   "metadata": {},
   "source": [
    "## Python code for Merge Sort"
   ]
  },
  {
   "cell_type": "code",
   "execution_count": 1,
   "id": "1bde264a-3562-4a1a-8db3-20f4149e5473",
   "metadata": {},
   "outputs": [
    {
     "name": "stdout",
     "output_type": "stream",
     "text": [
      "Original array: [38, 27, 43, 3, 9, 82, 10]\n",
      "Sorted array: [3, 9, 10, 27, 38, 43, 82]\n"
     ]
    }
   ],
   "source": [
    "def merge_sort(arr):\n",
    "    if len(arr) > 1:\n",
    "        # Find the middle of the array\n",
    "        mid = len(arr) // 2\n",
    "\n",
    "        # Split the array into two halves\n",
    "        left_half = arr[:mid]\n",
    "        right_half = arr[mid:]\n",
    "\n",
    "        # Recursively sort each half\n",
    "        merge_sort(left_half)\n",
    "        merge_sort(right_half)\n",
    "\n",
    "        # Merge the sorted halves\n",
    "        i = j = k = 0\n",
    "\n",
    "        # Copy data to the original array from the sorted halves\n",
    "        while i < len(left_half) and j < len(right_half):\n",
    "            if left_half[i] < right_half[j]:\n",
    "                arr[k] = left_half[i]\n",
    "                i += 1\n",
    "            else:\n",
    "                arr[k] = right_half[j]\n",
    "                j += 1\n",
    "            k += 1\n",
    "\n",
    "        # Check for any remaining elements in the left half\n",
    "        while i < len(left_half):\n",
    "            arr[k] = left_half[i]\n",
    "            i += 1\n",
    "            k += 1\n",
    "\n",
    "        # Check for any remaining elements in the right half\n",
    "        while j < len(right_half):\n",
    "            arr[k] = right_half[j]\n",
    "            j += 1\n",
    "            k += 1\n",
    "\n",
    "# Example usage\n",
    "arr = [38, 27, 43, 3, 9, 82, 10]\n",
    "print(\"Original array:\", arr)\n",
    "merge_sort(arr)\n",
    "print(\"Sorted array:\", arr)\n"
   ]
  },
  {
   "cell_type": "markdown",
   "id": "31846adb-e93f-4163-bff8-e1f8ad1b648c",
   "metadata": {},
   "source": [
    "### **Time Complexity**\n",
    "1. **Best Case:**  \n",
    "   - **O(n log n)**  \n",
    "     The array is always divided into halves, and merging takes linear time.\n",
    "\n",
    "2. **Average Case:**  \n",
    "   - **O(n log n)**  \n",
    "     Regardless of the initial arrangement of the elements, the divide-and-conquer approach ensures logarithmic depth with linear merging at each level.\n",
    "\n",
    "3. **Worst Case:**  \n",
    "   - **O(n log n)**  \n",
    "     Similar to the average case, the algorithm performs consistently in all scenarios.\n",
    "\n",
    "---\n",
    "\n",
    "### **Space Complexity**\n",
    "- **O(n)**  \n",
    "  Merge Sort requires additional space for temporary arrays during merging, making it less space-efficient than in-place algorithms.\n",
    "\n",
    "---\n",
    "\n",
    "### **Advantages of Merge Sort**\n",
    "1. **Efficient for Large Datasets:**  \n",
    "   - Its **O(n log n)** time complexity makes it highly efficient for sorting large arrays.\n",
    "\n",
    "2. **Stable Sorting Algorithm:**  \n",
    "   - It preserves the relative order of equal elements, which is crucial for certain applications.\n",
    "\n",
    "3. **Works Well for Linked Lists:**  \n",
    "   - Merge Sort is particularly effective for linked lists because no shifting is required, unlike array-based implementations.\n",
    "\n",
    "4. **Predictable Performance:**  \n",
    "   - The algorithm consistently performs well regardless of the input data's initial order (sorted, reversed, or random).\n",
    "\n",
    "5. **Divide-and-Conquer Approach:**  \n",
    "   - This approach allows for easy parallelization, making it suitable for multi-core processors.\n",
    "\n",
    "---\n",
    "\n",
    "### **Disadvantages of Merge Sort**\n",
    "1. **High Memory Usage:**  \n",
    "   - Merge Sort requires additional memory for temporary arrays during the merging process, making it unsuitable for memory-constrained environments.\n",
    "\n",
    "2. **Not In-Place:**  \n",
    "   - It requires extra space proportional to the size of the array, unlike algorithms like Quick Sort.\n",
    "\n",
    "3. **Complex Implementation:**  \n",
    "   - Merge Sort is more complex to implement compared to simpler algorithms like Bubble Sort or Selection Sort.\n",
    "\n",
    "---\n",
    "\n",
    "### **Use Cases**\n",
    "- Merge Sort is commonly used for:\n",
    "  - Sorting large datasets with strict time efficiency requirements.\n",
    "  - Scenarios where stability is necessary.\n",
    "  - Sorting linked lists, as it avoids excessive data movement.\n",
    "\n"
   ]
  }
 ],
 "metadata": {
  "kernelspec": {
   "display_name": "Python [conda env:base] *",
   "language": "python",
   "name": "conda-base-py"
  },
  "language_info": {
   "codemirror_mode": {
    "name": "ipython",
    "version": 3
   },
   "file_extension": ".py",
   "mimetype": "text/x-python",
   "name": "python",
   "nbconvert_exporter": "python",
   "pygments_lexer": "ipython3",
   "version": "3.12.7"
  }
 },
 "nbformat": 4,
 "nbformat_minor": 5
}
