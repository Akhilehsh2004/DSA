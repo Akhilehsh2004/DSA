{
 "cells": [
  {
   "cell_type": "markdown",
   "id": "1fc09fb1-08d0-45fa-b656-f6a912354957",
   "metadata": {},
   "source": [
    "## Akhilesh Pant (AU FTCA: MCA)\n"
   ]
  },
  {
   "cell_type": "markdown",
   "id": "4a71db41-77b6-46cd-b444-42f094f307ea",
   "metadata": {},
   "source": [
    "### Python code for Selection Sort"
   ]
  },
  {
   "cell_type": "code",
   "execution_count": 1,
   "id": "e42ee2cb-e1c2-4040-9bae-57c3bc08ede2",
   "metadata": {},
   "outputs": [
    {
     "name": "stdout",
     "output_type": "stream",
     "text": [
      "Original array: [64, 25, 12, 22, 11]\n",
      "Sorted array: [11, 12, 22, 25, 64]\n"
     ]
    }
   ],
   "source": [
    "def selection_sort(arr):\n",
    "    n = len(arr)\n",
    "    for i in range(n):\n",
    "        # Find the minimum element in the unsorted portion\n",
    "        min_index = i\n",
    "        for j in range(i + 1, n):\n",
    "            if arr[j] < arr[min_index]:\n",
    "                min_index = j\n",
    "        \n",
    "        # Swap the found minimum element with the first element of the unsorted portion\n",
    "        arr[i], arr[min_index] = arr[min_index], arr[i]\n",
    "\n",
    "# Example usage\n",
    "arr = [64, 25, 12, 22, 11]\n",
    "print(\"Original array:\", arr)\n",
    "selection_sort(arr)\n",
    "print(\"Sorted array:\", arr)\n"
   ]
  },
  {
   "cell_type": "markdown",
   "id": "5ac18e99-e037-4696-a67d-d7e5677465b4",
   "metadata": {},
   "source": [
    "### **Time Complexity**\n",
    "1. **Best Case:**  \n",
    "   - **O(n²)**  \n",
    "     The algorithm always scans the entire unsorted portion to find the minimum, regardless of the order of elements.\n",
    "\n",
    "2. **Average Case:**  \n",
    "   - **O(n²)**  \n",
    "     Each element is compared with every other element in the unsorted portion, resulting in quadratic time complexity.\n",
    "\n",
    "3. **Worst Case:**  \n",
    "   - **O(n²)**  \n",
    "     Similar to the average case, it performs the same number of comparisons regardless of the input order.\n",
    "\n",
    "---\n",
    "\n",
    "### **Space Complexity**\n",
    "- **O(1)**  \n",
    "  Selection Sort is an in-place algorithm, requiring no additional memory apart from a few temporary variables for swapping.\n",
    "\n",
    "---\n",
    "\n",
    "### **Advantages of Selection Sort**\n",
    "1. **Simple and Intuitive:**  \n",
    "   - The algorithm is easy to understand and implement, making it suitable for beginners.\n",
    "\n",
    "2. **In-Place Sorting:**  \n",
    "   - It requires no extra memory, which makes it space-efficient.\n",
    "\n",
    "3. **Useful for Small Datasets:**  \n",
    "   - Works reasonably well for small arrays or lists.\n",
    "\n",
    "4. **No Dependence on Input Order:**  \n",
    "   - The performance remains consistent regardless of whether the array is sorted, reversed, or random.\n",
    "\n",
    "---\n",
    "\n",
    "### **Disadvantages of Selection Sort**\n",
    "1. **Inefficient for Large Datasets:**  \n",
    "   - Its time complexity of **O(n²)** makes it impractical for large arrays compared to more advanced algorithms like Quick Sort or Merge Sort.\n",
    "\n",
    "2. **Not Adaptive:**  \n",
    "   - Unlike Insertion Sort, Selection Sort does not adapt to nearly sorted arrays, performing the same number of comparisons.\n",
    "\n",
    "3. **Not Stable:**  \n",
    "   - Selection Sort does not preserve the relative order of equal elements, which can be a drawback when stability is required.\n",
    "\n",
    "4. **High Number of Comparisons:**  \n",
    "   - Even if the array is sorted, the algorithm performs unnecessary comparisons.\n",
    "\n",
    "---\n",
    "\n",
    "### **Use Cases**\n",
    "- Selection Sort is used in:\n",
    "  - Simple teaching scenarios to demonstrate sorting concepts.\n",
    "  - Applications where memory is severely constrained.\n",
    "  - Small datasets where the simplicity of implementation is prioritized over performance.\n",
    "\n",
    "Would you like a step-by-step explanation of the algorithm or comparisons with other sorting techniques? 😊"
   ]
  },
  {
   "cell_type": "markdown",
   "id": "2d0d59ba-dd5b-4ca3-ba52-e392ed690052",
   "metadata": {},
   "source": []
  }
 ],
 "metadata": {
  "kernelspec": {
   "display_name": "Python [conda env:base] *",
   "language": "python",
   "name": "conda-base-py"
  },
  "language_info": {
   "codemirror_mode": {
    "name": "ipython",
    "version": 3
   },
   "file_extension": ".py",
   "mimetype": "text/x-python",
   "name": "python",
   "nbconvert_exporter": "python",
   "pygments_lexer": "ipython3",
   "version": "3.12.7"
  }
 },
 "nbformat": 4,
 "nbformat_minor": 5
}
