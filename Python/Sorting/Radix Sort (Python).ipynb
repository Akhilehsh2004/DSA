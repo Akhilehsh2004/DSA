{
 "cells": [
  {
   "cell_type": "code",
   "execution_count": null,
   "id": "2d3455a5-c105-4c6a-b375-88a61c814cc0",
   "metadata": {},
   "outputs": [],
   "source": [
    "Akhilesh Pant (AU FTCA: MCA)"
   ]
  },
  {
   "cell_type": "markdown",
   "id": "b5529d1b-a170-40e8-beec-f680d78291f8",
   "metadata": {},
   "source": [
    "### Python Code for Radix Sort\n",
    "\n"
   ]
  },
  {
   "cell_type": "code",
   "execution_count": 1,
   "id": "bec23226-43a8-4329-8a64-5be8d5135a73",
   "metadata": {},
   "outputs": [
    {
     "name": "stdout",
     "output_type": "stream",
     "text": [
      "Original array: [170, 45, 75, 90, 802, 24, 2, 66]\n",
      "Sorted array: [2, 24, 45, 66, 75, 90, 170, 802]\n"
     ]
    }
   ],
   "source": [
    "def counting_sort(arr, exp):\n",
    "    n = len(arr)\n",
    "    output = [0] * n  # Output array to store sorted numbers\n",
    "    count = [0] * 10  # Count array for digits (0-9)\n",
    "\n",
    "    # Count occurrences of each digit at the current position\n",
    "    for i in range(n):\n",
    "        index = (arr[i] // exp) % 10\n",
    "        count[index] += 1\n",
    "\n",
    "    # Update count[i] to store actual positions of digits in the output array\n",
    "    for i in range(1, 10):\n",
    "        count[i] += count[i - 1]\n",
    "\n",
    "    # Build the output array\n",
    "    i = n - 1\n",
    "    while i >= 0:\n",
    "        index = (arr[i] // exp) % 10\n",
    "        output[count[index] - 1] = arr[i]\n",
    "        count[index] -= 1\n",
    "        i -= 1\n",
    "\n",
    "    # Copy the sorted numbers back to the original array\n",
    "    for i in range(n):\n",
    "        arr[i] = output[i]\n",
    "\n",
    "\n",
    "def radix_sort(arr):\n",
    "    # Find the maximum number to determine the number of digits\n",
    "    max_num = max(arr)\n",
    "\n",
    "    # Perform counting sort for each digit, moving from least to most significant digit\n",
    "    exp = 1\n",
    "    while max_num // exp > 0:\n",
    "        counting_sort(arr, exp)\n",
    "        exp *= 10\n",
    "\n",
    "\n",
    "# Example usage\n",
    "arr = [170, 45, 75, 90, 802, 24, 2, 66]\n",
    "print(\"Original array:\", arr)\n",
    "radix_sort(arr)\n",
    "print(\"Sorted array:\", arr)\n"
   ]
  },
  {
   "cell_type": "markdown",
   "id": "e06d38d2-9694-4427-ba9c-e8ec59cad2f0",
   "metadata": {},
   "source": [
    "### **Time Complexity**\n",
    "1. **Best Case:**  \n",
    "   - **O(nk)**  \n",
    "     The array is sorted in linear time, where `k` is the number of digits in the maximum element.\n",
    "\n",
    "2. **Average Case:**  \n",
    "   - **O(nk)**  \n",
    "     The performance is consistent if the range of digits is manageable.\n",
    "\n",
    "3. **Worst Case:**  \n",
    "   - **O(nk)**  \n",
    "     Even in the worst-case scenario, the algorithm remains linear concerning the number of elements and digits.\n",
    "\n",
    "---\n",
    "\n",
    "### **Space Complexity**\n",
    "- **O(n + k)**  \n",
    "  Additional space is required for the output array and the count array.\n",
    "\n",
    "---\n",
    "\n",
    "### **Advantages of Radix Sort**\n",
    "1. **Linear Time for Small k:**  \n",
    "   - Efficient for large datasets when the range of digits (k) is small.\n",
    "\n",
    "2. **Stable Sorting Algorithm:**  \n",
    "   - Radix Sort preserves the relative order of equal elements, which is important in certain applications.\n",
    "\n",
    "3. **No Comparisons:**  \n",
    "   - Unlike comparison-based algorithms (Quick Sort, Merge Sort), Radix Sort avoids direct comparisons between elements.\n",
    "\n",
    "4. **Good for Integers:**  \n",
    "   - Works well for sorting integers or strings of fixed length.\n",
    "\n",
    "5. **Predictable Performance:**  \n",
    "   - Performance does not depend on the initial order of the array.\n",
    "\n",
    "---\n",
    "\n",
    "### **Disadvantages of Radix Sort**\n",
    "1. **Not Suitable for Large Digits or Floating-Point Numbers:**  \n",
    "   - Becomes inefficient for large values of `k` or when dealing with floating-point numbers.\n",
    "\n",
    "2. **Requires Additional Memory:**  \n",
    "   - The algorithm needs extra space for the output array and count array.\n",
    "\n",
    "3. **Limited Scope:**  \n",
    "   - Only works with numbers (or strings) that can be broken into individual digits or characters.\n",
    "\n",
    "4. **Complex Implementation:**  \n",
    "   - Radix Sort requires careful handling of digit-by-digit processing, making it more complex than simpler algorithms like Bubble Sort.\n",
    "\n",
    "---\n",
    "\n",
    "### **Use Cases**\n",
    "- **Radix Sort is ideal for:**\n",
    "  - Sorting integers in a known range.\n",
    "  - Applications where stability is critical.\n",
    "  - Scenarios where a non-comparison-based sort is needed.\n",
    "\n"
   ]
  }
 ],
 "metadata": {
  "kernelspec": {
   "display_name": "Python [conda env:base] *",
   "language": "python",
   "name": "conda-base-py"
  },
  "language_info": {
   "codemirror_mode": {
    "name": "ipython",
    "version": 3
   },
   "file_extension": ".py",
   "mimetype": "text/x-python",
   "name": "python",
   "nbconvert_exporter": "python",
   "pygments_lexer": "ipython3",
   "version": "3.12.7"
  }
 },
 "nbformat": 4,
 "nbformat_minor": 5
}
