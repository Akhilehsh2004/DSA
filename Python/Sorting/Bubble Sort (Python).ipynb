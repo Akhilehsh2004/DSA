{
 "cells": [
  {
   "cell_type": "markdown",
   "id": "38eb5ba4-7b3d-4a49-8291-8efc20f46dd0",
   "metadata": {},
   "source": [
    "## Akhilesh Pant (AU FTCA: MCA)"
   ]
  },
  {
   "cell_type": "markdown",
   "id": "c29afb03-12cc-43ac-ad73-3a472e4906c6",
   "metadata": {},
   "source": [
    "## Python code for Bubble Sort"
   ]
  },
  {
   "cell_type": "code",
   "execution_count": 1,
   "id": "e7b674ca-5d19-4531-985f-93073dda94b4",
   "metadata": {},
   "outputs": [
    {
     "name": "stdout",
     "output_type": "stream",
     "text": [
      "Original array: [64, 34, 25, 12, 22, 11, 90]\n",
      "Sorted array: [11, 12, 22, 25, 34, 64, 90]\n"
     ]
    }
   ],
   "source": [
    "def bubble_sort(arr):\n",
    "    n = len(arr)\n",
    "    # Traverse through all elements in the array\n",
    "    for i in range(n):\n",
    "        # Last i elements are already sorted\n",
    "        for j in range(0, n-i-1):\n",
    "            # Swap if the element found is greater than the next element\n",
    "            if arr[j] > arr[j+1]:\n",
    "                arr[j], arr[j+1] = arr[j+1], arr[j]\n",
    "\n",
    "# Example usage\n",
    "arr = [64, 34, 25, 12, 22, 11, 90]\n",
    "print(\"Original array:\", arr)\n",
    "bubble_sort(arr)\n",
    "print(\"Sorted array:\", arr)\n"
   ]
  },
  {
   "cell_type": "markdown",
   "id": "2a5f7be6-eec5-41db-8c9c-437b6971383e",
   "metadata": {},
   "source": [
    "### Algorithm for Insertion Sort\n",
    "\n",
    "1. **Start with the second element:** Assume the first element of the array is sorted. Pick the second element as the key.\n",
    "\n",
    "2. **Iterate through the array:** For each key element (starting from the second element), compare it with elements in the sorted portion of the array (elements to the left).\n",
    "\n",
    "3. **Shift elements:** Move all elements in the sorted portion that are greater than the key one position to the right to make space for the key.\n",
    "\n",
    "4. **Insert the key:** Place the key in its correct position in the sorted portion.\n",
    "\n",
    "5. **Repeat:** Continue this process for all elements in the array.\n",
    "\n",
    "6. **End:** Once all elements have been iterated over and placed in their correct positions, the array is sorted.\n",
    "\n"
   ]
  },
  {
   "cell_type": "markdown",
   "id": "cdcc7044-6ccd-4e73-98d4-d5ffd7bc26de",
   "metadata": {},
   "source": [
    "###  Time Complexity of Bubble Sort:\n",
    "1. **Best Case (When the array is already sorted):**  \n",
    "   - **O(n)**  \n",
    "   In the best case, Bubble Sort can recognize that the array is sorted and skip unnecessary comparisons. This happens if an optimization is applied (e.g., using a flag to detect whether any swaps occurred in a pass).  \n",
    "\n",
    "2. **Average Case:**  \n",
    "   - **O(n²)**  \n",
    "   Even if the array is partially sorted, Bubble Sort performs nested loops, making its average-case complexity quadratic.\n",
    "\n",
    "3. **Worst Case (When the array is sorted in reverse order):**  \n",
    "   - **O(n²)**  \n",
    "   The worst-case scenario requires the maximum number of comparisons and swaps, as every element needs to be shifted to its correct position.\n",
    "\n",
    "---\n",
    "\n",
    "### Space Complexity:\n",
    "- **O(1)**  \n",
    "  Bubble Sort is an in-place sorting algorithm, meaning it requires a constant amount of extra space.\n",
    "\n",
    "---\n",
    "\n",
    "### Key Points:\n",
    "- Bubble Sort is inefficient for large datasets due to its quadratic time complexity.\n",
    "- It is mainly used for teaching purposes or when the dataset size is very small.\n",
    "\n",
    "Let me know if you'd like to explore optimizations or comparisons with other sorting algorithms!"
   ]
  },
  {
   "cell_type": "markdown",
   "id": "7e2cf2d5-220b-4b71-9b0b-5a68cf9f4610",
   "metadata": {},
   "source": [
    "### Advantages of Bubble Sort:\n",
    "1. **Simple and Easy to Implement:**  \n",
    "   - The algorithm is straightforward and easy to understand, making it suitable for teaching basic sorting concepts.\n",
    "\n",
    "2. **In-Place Sorting:**  \n",
    "   - Bubble Sort does not require additional memory space since it operates directly on the input array.\n",
    "\n",
    "3. **Adaptive for Nearly Sorted Data:**  \n",
    "   - If the input array is already sorted or nearly sorted, Bubble Sort can detect this early (with a small optimization like a \"no-swap\" flag) and terminate, reducing the number of iterations.\n",
    "\n",
    "4. **Stable Sorting Algorithm:**  \n",
    "   - Bubble Sort preserves the relative order of equal elements, which is useful for certain applications.\n",
    "\n",
    "---\n",
    "\n",
    "### Disadvantages of Bubble Sort:\n",
    "1. **Inefficient for Large Datasets:**  \n",
    "   - Its time complexity of **O(n²)** for average and worst cases makes it impractical for large datasets compared to more advanced algorithms like Quick Sort or Merge Sort.\n",
    "\n",
    "2. **High Number of Comparisons and Swaps:**  \n",
    "   - Even for small datasets, Bubble Sort performs many unnecessary comparisons and swaps, making it slow.\n",
    "\n",
    "3. **Not Cache-Friendly:**  \n",
    "   - The frequent swapping of adjacent elements does not make efficient use of the CPU cache compared to other algorithms like Quick Sort or Merge Sort.\n",
    "\n",
    "4. **No Practical Use in Real-World Applications:**  \n",
    "   - Due to its inefficiency, Bubble Sort is rarely used in practice, except for educational purposes or very small datasets.\n",
    "\n",
    "---\n",
    "\n",
    "### Conclusion:\n",
    "Bubble Sort is primarily a learning tool for understanding basic sorting techniques. For real-world use cases, algorithms like **Quick Sort**, **Merge Sort**, or **Heap Sort** are much more efficient and practical. Let me know if you'd like a comparison or explanation of those!"
   ]
  }
 ],
 "metadata": {
  "kernelspec": {
   "display_name": "Python [conda env:base] *",
   "language": "python",
   "name": "conda-base-py"
  },
  "language_info": {
   "codemirror_mode": {
    "name": "ipython",
    "version": 3
   },
   "file_extension": ".py",
   "mimetype": "text/x-python",
   "name": "python",
   "nbconvert_exporter": "python",
   "pygments_lexer": "ipython3",
   "version": "3.12.7"
  }
 },
 "nbformat": 4,
 "nbformat_minor": 5
}
