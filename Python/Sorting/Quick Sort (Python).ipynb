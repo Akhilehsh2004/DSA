{
 "cells": [
  {
   "cell_type": "markdown",
   "id": "bd306d15-441d-41b9-8c3e-4eb1e6cbf0c3",
   "metadata": {},
   "source": [
    "## Akhilesh Pant (AU FTCA: MCA)"
   ]
  },
  {
   "cell_type": "markdown",
   "id": "1b8b9f45-64cd-4efa-9592-20ff38a5ac8f",
   "metadata": {},
   "source": [
    "## Python code for Quick Sort"
   ]
  },
  {
   "cell_type": "code",
   "execution_count": 1,
   "id": "92f07757-bcf2-45e5-ac4c-48c4b6737a86",
   "metadata": {},
   "outputs": [
    {
     "name": "stdout",
     "output_type": "stream",
     "text": [
      "Original array: [10, 7, 8, 9, 1, 5]\n",
      "Sorted array: [1, 5, 7, 8, 9, 10]\n"
     ]
    }
   ],
   "source": [
    "def quick_sort(arr):\n",
    "    if len(arr) <= 1:  # Base case for recursion\n",
    "        return arr\n",
    "\n",
    "    pivot = arr[len(arr) // 2]  # Choose the middle element as pivot\n",
    "    left = [x for x in arr if x < pivot]  # Elements less than pivot\n",
    "    middle = [x for x in arr if x == pivot]  # Elements equal to pivot\n",
    "    right = [x for x in arr if x > pivot]  # Elements greater than pivot\n",
    "\n",
    "    # Recursively sort left and right partitions\n",
    "    return quick_sort(left) + middle + quick_sort(right)\n",
    "\n",
    "\n",
    "# Example usage\n",
    "arr = [10, 7, 8, 9, 1, 5]\n",
    "print(\"Original array:\", arr)\n",
    "sorted_arr = quick_sort(arr)\n",
    "print(\"Sorted array:\", sorted_arr)\n"
   ]
  },
  {
   "cell_type": "markdown",
   "id": "fb4f9104-76c6-45a9-ac0d-f38e31ae4566",
   "metadata": {},
   "source": [
    "### **Time Complexity**\n",
    "1. **Best Case (Balanced partitioning):**  \n",
    "   - **O(n log n)**  \n",
    "     When the pivot divides the array into two equal parts at every step, Quick Sort achieves optimal performance.\n",
    "\n",
    "2. **Average Case:**  \n",
    "   - **O(n log n)**  \n",
    "     On average, the array is split into reasonably balanced parts, making the overall complexity logarithmic.\n",
    "\n",
    "3. **Worst Case (Unbalanced partitioning):**  \n",
    "   - **O(n²)**  \n",
    "     This happens when the pivot is consistently the smallest or largest element (e.g., when the array is already sorted in ascending or descending order).\n",
    "\n",
    "---\n",
    "\n",
    "### **Space Complexity**\n",
    "- **O(log n)** (for the recursion stack in the best and average cases).  \n",
    "- **O(n)** (in the worst case due to deep recursion for unbalanced partitions).  \n",
    "- It is an **in-place** sorting algorithm, so it does not require additional space for data storage.\n",
    "\n",
    "---\n",
    "\n",
    "### **Advantages of Quick Sort**\n",
    "1. **Highly Efficient for Large Datasets:**  \n",
    "   - It outperforms other algorithms like Merge Sort and Heap Sort in practical applications due to lower overhead.\n",
    "\n",
    "2. **In-Place Sorting:**  \n",
    "   - Unlike Merge Sort, it does not require additional memory for temporary arrays.\n",
    "\n",
    "3. **Widely Used in Practice:**  \n",
    "   - Due to its efficiency and practical utility, it is commonly used in various programming libraries and applications.\n",
    "\n",
    "4. **Divide-and-Conquer Algorithm:**  \n",
    "   - It is easy to parallelize, making it well-suited for modern multi-core systems.\n",
    "\n",
    "5. **Customizable:**  \n",
    "   - Pivot selection strategies can be adapted to improve performance for specific datasets.\n",
    "\n",
    "---\n",
    "\n",
    "### **Disadvantages of Quick Sort**\n",
    "1. **Worst-Case Performance:**  \n",
    "   - Unbalanced partitioning results in **O(n²)** complexity, which can occur with poorly chosen pivots.\n",
    "\n",
    "2. **Not Stable:**  \n",
    "   - Quick Sort does not preserve the relative order of equal elements.\n",
    "\n",
    "3. **Recursive Nature:**  \n",
    "   - For very large datasets, deep recursion can lead to stack overflow unless optimized.\n",
    "\n",
    "4. **Cache Unfriendliness:**  \n",
    "   - Partitioning involves frequent, non-sequential memory access, which is less cache-efficient than algorithms like Merge Sort.\n",
    "\n",
    "---\n",
    "\n",
    "### **Use Cases**\n",
    "- Quick Sort is used in:  \n",
    "  - Sorting large datasets where memory usage needs to be minimal.  \n",
    "  - Real-world applications like databases, search engines, and file systems.  \n",
    "  - Scenarios requiring high efficiency and where stability is not critical.\n",
    "\n"
   ]
  }
 ],
 "metadata": {
  "kernelspec": {
   "display_name": "Python [conda env:base] *",
   "language": "python",
   "name": "conda-base-py"
  },
  "language_info": {
   "codemirror_mode": {
    "name": "ipython",
    "version": 3
   },
   "file_extension": ".py",
   "mimetype": "text/x-python",
   "name": "python",
   "nbconvert_exporter": "python",
   "pygments_lexer": "ipython3",
   "version": "3.12.7"
  }
 },
 "nbformat": 4,
 "nbformat_minor": 5
}
