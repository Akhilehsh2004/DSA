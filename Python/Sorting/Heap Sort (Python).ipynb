{
 "cells": [
  {
   "cell_type": "markdown",
   "id": "c0292a8d-8815-478b-9c0c-0ccec36939a7",
   "metadata": {},
   "source": [
    "## Akhilesh Pant (AU FTCA: MCA)"
   ]
  },
  {
   "cell_type": "markdown",
   "id": "94764b9b-fb47-44e9-8e6e-76d68eecffac",
   "metadata": {},
   "source": [
    "## Python code for Hea Sort"
   ]
  },
  {
   "cell_type": "code",
   "execution_count": 1,
   "id": "fdc363a9-ec52-4661-903f-122e769eea07",
   "metadata": {},
   "outputs": [
    {
     "name": "stdout",
     "output_type": "stream",
     "text": [
      "Original array: [12, 11, 13, 5, 6, 7]\n",
      "Sorted array: [5, 6, 7, 11, 12, 13]\n"
     ]
    }
   ],
   "source": [
    "def heapify(arr, n, i):\n",
    "    largest = i  # Initialize largest as root\n",
    "    left = 2 * i + 1  # Left child\n",
    "    right = 2 * i + 2  # Right child\n",
    "\n",
    "    # Check if left child exists and is greater than root\n",
    "    if left < n and arr[left] > arr[largest]:\n",
    "        largest = left\n",
    "\n",
    "    # Check if right child exists and is greater than the current largest\n",
    "    if right < n and arr[right] > arr[largest]:\n",
    "        largest = right\n",
    "\n",
    "    # If the largest is not the root, swap and continue heapifying\n",
    "    if largest != i:\n",
    "        arr[i], arr[largest] = arr[largest], arr[i]\n",
    "        heapify(arr, n, largest)\n",
    "\n",
    "\n",
    "def heap_sort(arr):\n",
    "    n = len(arr)\n",
    "\n",
    "    # Build a max heap\n",
    "    for i in range(n // 2 - 1, -1, -1):\n",
    "        heapify(arr, n, i)\n",
    "\n",
    "    # Extract elements from the heap\n",
    "    for i in range(n - 1, 0, -1):\n",
    "        # Move current root to end\n",
    "        arr[i], arr[0] = arr[0], arr[i]\n",
    "        # Call heapify on the reduced heap\n",
    "        heapify(arr, i, 0)\n",
    "\n",
    "\n",
    "# Example usage\n",
    "arr = [12, 11, 13, 5, 6, 7]\n",
    "print(\"Original array:\", arr)\n",
    "heap_sort(arr)\n",
    "print(\"Sorted array:\", arr)\n"
   ]
  },
  {
   "cell_type": "markdown",
   "id": "5f18c391-f956-4948-9dae-e2a3c82aec87",
   "metadata": {},
   "source": [
    "### **Time Complexity**\n",
    "1. **Best Case:**  \n",
    "   - **O(n log n)**  \n",
    "     Building the heap and extracting elements always involve logarithmic operations, regardless of input order.\n",
    "\n",
    "2. **Average Case:**  \n",
    "   - **O(n log n)**  \n",
    "     The number of comparisons and swaps is consistent regardless of the input order.\n",
    "\n",
    "3. **Worst Case:**  \n",
    "   - **O(n log n)**  \n",
    "     Similar to the average case, as heap operations are logarithmic.\n",
    "\n",
    "---\n",
    "\n",
    "### **Space Complexity**\n",
    "- **O(1)**  \n",
    "  Heap Sort is an in-place sorting algorithm, requiring no additional memory apart from a few variables for swapping.\n",
    "\n",
    "---\n",
    "\n",
    "### **Advantages of Heap Sort**\n",
    "1. **Time Efficiency:**  \n",
    "   - Heap Sort consistently performs at **O(n log n)**, making it efficient for large datasets.\n",
    "\n",
    "2. **In-Place Sorting:**  \n",
    "   - It does not require additional memory, unlike Merge Sort.\n",
    "\n",
    "3. **Not Affected by Input Order:**  \n",
    "   - Heap Sort has consistent performance regardless of whether the input is sorted, reversed, or random.\n",
    "\n",
    "4. **Suitable for Priority Queues:**  \n",
    "   - The heap data structure is ideal for managing priority queues.\n",
    "\n",
    "---\n",
    "\n",
    "### **Disadvantages of Heap Sort**\n",
    "1. **Not Stable:**  \n",
    "   - Heap Sort does not preserve the relative order of equal elements.\n",
    "\n",
    "2. **Complex Implementation:**  \n",
    "   - It is more challenging to implement compared to simpler algorithms like Bubble Sort or Insertion Sort.\n",
    "\n",
    "3. **Cache Unfriendliness:**  \n",
    "   - Due to frequent jumps in the array during heapify, it is less cache-efficient compared to algorithms like Quick Sort.\n",
    "\n",
    "---\n",
    "\n",
    "### **Use Cases**\n",
    "- **Heap Sort is ideal for:**\n",
    "  - Applications where in-place sorting is required with limited memory.\n",
    "  - Scenarios where consistent performance is needed across all input orders.\n",
    "  - Managing priority queues, such as scheduling or simulation systems.\n",
    "\n"
   ]
  }
 ],
 "metadata": {
  "kernelspec": {
   "display_name": "Python [conda env:base] *",
   "language": "python",
   "name": "conda-base-py"
  },
  "language_info": {
   "codemirror_mode": {
    "name": "ipython",
    "version": 3
   },
   "file_extension": ".py",
   "mimetype": "text/x-python",
   "name": "python",
   "nbconvert_exporter": "python",
   "pygments_lexer": "ipython3",
   "version": "3.12.7"
  }
 },
 "nbformat": 4,
 "nbformat_minor": 5
}
