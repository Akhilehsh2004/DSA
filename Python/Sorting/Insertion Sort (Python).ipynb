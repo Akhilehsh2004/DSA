{
 "cells": [
  {
   "cell_type": "markdown",
   "id": "68c1194a-1aea-47d9-a359-6df194947543",
   "metadata": {},
   "source": [
    "## Akhilesh Pant (AU FTCA: MCA)"
   ]
  },
  {
   "cell_type": "markdown",
   "id": "e9e1ce17-3d51-41ed-b5a9-8f3b291b4458",
   "metadata": {},
   "source": [
    "##  Python implementation of Insertion Sort"
   ]
  },
  {
   "cell_type": "code",
   "execution_count": 1,
   "id": "39b8259e-9ce5-40e9-8deb-3731febdd5ab",
   "metadata": {},
   "outputs": [
    {
     "name": "stdout",
     "output_type": "stream",
     "text": [
      "Original array: [12, 11, 13, 5, 6]\n",
      "Sorted array: [5, 6, 11, 12, 13]\n"
     ]
    }
   ],
   "source": [
    "def insertion_sort(arr):\n",
    "    # Traverse through the array starting from the second element\n",
    "    for i in range(1, len(arr)):\n",
    "        key = arr[i]  # Element to be compared\n",
    "        j = i - 1\n",
    "\n",
    "        # Move elements of arr[0..i-1], that are greater than 'key',\n",
    "        # one position ahead of their current position\n",
    "        while j >= 0 and key < arr[j]:\n",
    "            arr[j + 1] = arr[j]\n",
    "            j -= 1\n",
    "\n",
    "        # Place the key element at its correct position\n",
    "        arr[j + 1] = key\n",
    "\n",
    "# Example usage:\n",
    "arr = [12, 11, 13, 5, 6]\n",
    "print(\"Original array:\", arr)\n",
    "\n",
    "insertion_sort(arr)\n",
    "print(\"Sorted array:\", arr)\n"
   ]
  },
  {
   "cell_type": "markdown",
   "id": "f86f75b4-fae6-4bc9-841e-31f31ab6a051",
   "metadata": {},
   "source": [
    "### Algorithm for Insertion Sort\n",
    "\n",
    "1. **Start with the second element:** Assume the first element of the array is sorted. Pick the second element as the key.\n",
    "\n",
    "2. **Iterate through the array:** For each key element (starting from the second element), compare it with elements in the sorted portion of the array (elements to the left).\n",
    "\n",
    "3. **Shift elements:** Move all elements in the sorted portion that are greater than the key one position to the right to make space for the key.\n",
    "\n",
    "4. **Insert the key:** Place the key in its correct position in the sorted portion.\n",
    "\n",
    "5. **Repeat:** Continue this process for all elements in the array.\n",
    "\n",
    "6. **End:** Once all elements have been iterated over and placed in their correct positions, the array is sorted.\n",
    "\n",
    "---\n",
    "\n"
   ]
  }
 ],
 "metadata": {
  "kernelspec": {
   "display_name": "Python [conda env:base] *",
   "language": "python",
   "name": "conda-base-py"
  },
  "language_info": {
   "codemirror_mode": {
    "name": "ipython",
    "version": 3
   },
   "file_extension": ".py",
   "mimetype": "text/x-python",
   "name": "python",
   "nbconvert_exporter": "python",
   "pygments_lexer": "ipython3",
   "version": "3.12.7"
  }
 },
 "nbformat": 4,
 "nbformat_minor": 5
}
