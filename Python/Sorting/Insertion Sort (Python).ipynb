{
 "cells": [
  {
   "cell_type": "markdown",
   "id": "68c1194a-1aea-47d9-a359-6df194947543",
   "metadata": {},
   "source": [
    "## Akhilesh Pant (AU FTCA: MCA)"
   ]
  },
  {
   "cell_type": "markdown",
   "id": "e9e1ce17-3d51-41ed-b5a9-8f3b291b4458",
   "metadata": {},
   "source": [
    "##  Python implementation of Insertion Sort"
   ]
  },
  {
   "cell_type": "code",
   "execution_count": 1,
   "id": "39b8259e-9ce5-40e9-8deb-3731febdd5ab",
   "metadata": {},
   "outputs": [
    {
     "name": "stdout",
     "output_type": "stream",
     "text": [
      "Original array: [12, 11, 13, 5, 6]\n",
      "Sorted array: [5, 6, 11, 12, 13]\n"
     ]
    }
   ],
   "source": [
    "def insertion_sort(arr):\n",
    "    # Traverse through the array starting from the second element\n",
    "    for i in range(1, len(arr)):\n",
    "        key = arr[i]  # Element to be compared\n",
    "        j = i - 1\n",
    "\n",
    "        # Move elements of arr[0..i-1], that are greater than 'key',\n",
    "        # one position ahead of their current position\n",
    "        while j >= 0 and key < arr[j]:\n",
    "            arr[j + 1] = arr[j]\n",
    "            j -= 1\n",
    "\n",
    "        # Place the key element at its correct position\n",
    "        arr[j + 1] = key\n",
    "\n",
    "# Example usage:\n",
    "arr = [12, 11, 13, 5, 6]\n",
    "print(\"Original array:\", arr)\n",
    "\n",
    "insertion_sort(arr)\n",
    "print(\"Sorted array:\", arr)\n"
   ]
  },
  {
   "cell_type": "markdown",
   "id": "f86f75b4-fae6-4bc9-841e-31f31ab6a051",
   "metadata": {},
   "source": [
    "### Algorithm for Insertion Sort\n",
    "\n",
    "1. **Start with the second element:** Assume the first element of the array is sorted. Pick the second element as the key.\n",
    "\n",
    "2. **Iterate through the array:** For each key element (starting from the second element), compare it with elements in the sorted portion of the array (elements to the left).\n",
    "\n",
    "3. **Shift elements:** Move all elements in the sorted portion that are greater than the key one position to the right to make space for the key.\n",
    "\n",
    "4. **Insert the key:** Place the key in its correct position in the sorted portion.\n",
    "\n",
    "5. **Repeat:** Continue this process for all elements in the array.\n",
    "\n",
    "6. **End:** Once all elements have been iterated over and placed in their correct positions, the array is sorted.\n",
    "\n",
    "---\n",
    "\n"
   ]
  },
  {
   "cell_type": "markdown",
   "id": "d10ee30c-9585-41c8-9a79-c00c7a331942",
   "metadata": {},
   "source": [
    "## Insertion Sort: Time and Space Complexity\n",
    "\n",
    "#### **Time Complexity:**\n",
    "1. **Best Case (When the array is already sorted):**  \n",
    "   - **O(n)**  \n",
    "   Only one comparison per element is required, as the elements are already in order. This happens when no shifting is needed.\n",
    "\n",
    "2. **Average Case (Random order of elements):**  \n",
    "   - **O(n²)**  \n",
    "   Each element is compared with all preceding elements, leading to a quadratic number of operations for moderately unsorted arrays.\n",
    "\n",
    "3. **Worst Case (When the array is sorted in reverse order):**  \n",
    "   - **O(n²)**  \n",
    "   Each element has to be compared and shifted for all previous elements, resulting in the maximum number of operations.\n",
    "\n",
    "---\n",
    "\n",
    "#### **Space Complexity:**\n",
    "- **O(1)**  \n",
    "  Insertion Sort is an in-place sorting algorithm, meaning it does not require additional memory apart from a few temporary variables.\n",
    "\n",
    "---\n",
    "\n",
    "### Advantages of Insertion Sort:\n",
    "1. **Simple and Intuitive:**  \n",
    "   - The algorithm is straightforward and easy to implement, making it a good choice for learning sorting techniques.\n",
    "\n",
    "2. **Efficient for Small or Nearly Sorted Arrays:**  \n",
    "   - Performs very well on small datasets or arrays that are already nearly sorted, often used in hybrid algorithms like Timsort.\n",
    "\n",
    "3. **In-Place Sorting:**  \n",
    "   - Does not require additional memory, which makes it space-efficient.\n",
    "\n",
    "4. **Stable Sorting Algorithm:**  \n",
    "   - Maintains the relative order of equal elements, which is useful for sorting data with multiple attributes.\n",
    "\n",
    "5. **Adaptive Nature:**  \n",
    "   - The algorithm adapts quickly when the input is partially sorted, resulting in fewer comparisons and swaps.\n",
    "\n",
    "---\n",
    "\n",
    "### Disadvantages of Insertion Sort:\n",
    "1. **Inefficient for Large Datasets:**  \n",
    "   - Its quadratic time complexity in the average and worst cases makes it impractical for large datasets.\n",
    "\n",
    "2. **High Number of Shifts:**  \n",
    "   - When the array is in reverse order, the algorithm performs a large number of data movements, increasing its execution time.\n",
    "\n",
    "3. **Not Suitable for Complex Applications:**  \n",
    "   - Due to its inefficiency with larger datasets, it is not used for real-world applications where performance is critical.\n",
    "\n",
    "---\n",
    "\n",
    "### Use Cases:\n",
    "- Insertion Sort is best suited for:  \n",
    "  - Small datasets.  \n",
    "  - Arrays that are already nearly sorted.  \n",
    "  - Scenarios where stability is important.\n",
    "\n"
   ]
  }
 ],
 "metadata": {
  "kernelspec": {
   "display_name": "Python [conda env:base] *",
   "language": "python",
   "name": "conda-base-py"
  },
  "language_info": {
   "codemirror_mode": {
    "name": "ipython",
    "version": 3
   },
   "file_extension": ".py",
   "mimetype": "text/x-python",
   "name": "python",
   "nbconvert_exporter": "python",
   "pygments_lexer": "ipython3",
   "version": "3.12.7"
  }
 },
 "nbformat": 4,
 "nbformat_minor": 5
}
